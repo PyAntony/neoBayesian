{
 "cells": [
  {
   "cell_type": "markdown",
   "metadata": {},
   "source": [
    "# Other Routines"
   ]
  },
  {
   "cell_type": "markdown",
   "metadata": {},
   "source": [
    "## Event Probability by Brute Force \n",
    "\n",
    "The **Capcom Cup** final is about to be played by Itabashi against Gachikun. A player gets 1 point, 1/2 a point a 0 points for a win, a draw, and a lose respectively. A player needs 5 out of 8 points to win the round (assume all games will be played). From all previous matches played between these 2 competitors, Gachikun has won 39, Itabashi has won 28, and there was only 3 draws. What is the probability that Gachikun will win the cup? What is the expected value of the points given this probability? Calculate all possible outcomes. "
   ]
  },
  {
   "cell_type": "code",
   "execution_count": 1,
   "metadata": {},
   "outputs": [],
   "source": [
    "from neoBayesian.tools.others import probaByBruteForce"
   ]
  },
  {
   "cell_type": "code",
   "execution_count": 2,
   "metadata": {},
   "outputs": [],
   "source": [
    "# Priors given data observed\n",
    "prob_1 = 39/70\n",
    "prob_half = 3/70\n",
    "prob_0 = 28/70\n",
    "\n",
    "# parameters\n",
    "probability_map = {1:prob_1, 0.5:prob_half, 0:prob_0}\n",
    "cutoff = 5\n",
    "iterations = 8"
   ]
  },
  {
   "cell_type": "code",
   "execution_count": 3,
   "metadata": {},
   "outputs": [
    {
     "name": "stdout",
     "output_type": "stream",
     "text": [
      "  Event Value    Probability    Count\n",
      "-------------  -------------  -------\n",
      "          8       0.00928394        1\n",
      "          7.5     0.00071415        8\n",
      "          7       0.0066654         8\n",
      "          7       5.493e-05        28\n",
      "          6.5     0.00051272       56\n",
      "          6.5     4.23e-06         56\n",
      "          6       0.00478541       28\n",
      "          6       3.944e-05       168\n",
      "          6       3.3e-07          70\n",
      "          5.5     0.00036811      168\n",
      "          5.5     3.03e-06        280\n",
      "          5.5     3e-08            56\n",
      "          5       0.00343568       56\n",
      "          5       2.832e-05       420\n",
      "          5       2.3e-07         280\n",
      "          5       0                28\n",
      "\n",
      "EVENT PROBABILITY: 0.506497 <---\n",
      "Conditional EXP: 5.725114 <---\n"
     ]
    },
    {
     "data": {
      "text/plain": [
       "(0.5064972574140777, 5.725113508063684)"
      ]
     },
     "execution_count": 3,
     "metadata": {},
     "output_type": "execute_result"
    }
   ],
   "source": [
    "probaByBruteForce(probability_map, cutoff, iterations)"
   ]
  },
  {
   "cell_type": "code",
   "execution_count": null,
   "metadata": {},
   "outputs": [],
   "source": []
  },
  {
   "cell_type": "markdown",
   "metadata": {},
   "source": [
    "## Positive Predictive Value and Negative Predictive Value\n",
    "\n",
    "Patients can be diagnosed with a rare disease according to the level of enzyme E found in their blood. The expected level for patients with the disease is 41, and for patients without the disease is 25. By convention, positive tests results are assigned for enzyme levels greater than or equal to 35. This is a rare disease present in only 3% of the population. Find the PPV and NPV. "
   ]
  },
  {
   "cell_type": "code",
   "execution_count": 4,
   "metadata": {},
   "outputs": [],
   "source": [
    "from neoBayesian.tools.others import getTestStats\n",
    "from neoBayesian.models.discrete import PoissonDist"
   ]
  },
  {
   "cell_type": "code",
   "execution_count": 5,
   "metadata": {},
   "outputs": [],
   "source": [
    "# Enzyme levels can be modelled using the Poisson distribution.\n",
    "# You need to find 3 values for the test:\n",
    "# Sensitivity: Pr(T+|D+) = 1 - CDF(X <= 34); X ~Poisson Distribution (u = 41)\n",
    "# Specificity: Pr(T-|D-) = CDF(X <= 34); X ~Poisson Distribution (u = 25)\n",
    "# Prevalence: Pr(D+)\n",
    "\n",
    "sensitivity = 1 - PoissonDist(41, 0, 34)\n",
    "specificity = PoissonDist(25, 0, 34)\n",
    "prevalence = 0.03"
   ]
  },
  {
   "cell_type": "code",
   "execution_count": 6,
   "metadata": {},
   "outputs": [
    {
     "name": "stdout",
     "output_type": "stream",
     "text": [
      "PPV=0.43586\n",
      "NPV=0.99508\n"
     ]
    },
    {
     "data": {
      "text/plain": [
       "(0.4358640157773341, 0.9950764427256523)"
      ]
     },
     "execution_count": 6,
     "metadata": {},
     "output_type": "execute_result"
    }
   ],
   "source": [
    "getTestStats(sensitivity, specificity, prevalence)"
   ]
  },
  {
   "cell_type": "code",
   "execution_count": null,
   "metadata": {},
   "outputs": [],
   "source": []
  }
 ],
 "metadata": {
  "kernelspec": {
   "display_name": "Python 3",
   "language": "python",
   "name": "python3"
  },
  "language_info": {
   "codemirror_mode": {
    "name": "ipython",
    "version": 3
   },
   "file_extension": ".py",
   "mimetype": "text/x-python",
   "name": "python",
   "nbconvert_exporter": "python",
   "pygments_lexer": "ipython3",
   "version": "3.7.0"
  }
 },
 "nbformat": 4,
 "nbformat_minor": 2
}
