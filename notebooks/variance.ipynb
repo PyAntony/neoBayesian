{
 "cells": [
  {
   "cell_type": "markdown",
   "metadata": {},
   "source": [
    "# VARIANCE"
   ]
  },
  {
   "cell_type": "markdown",
   "metadata": {},
   "source": [
    "## Problem 1\n",
    "\n",
    "Suppose you have 3 jars with the following distributions:\n",
    "\n",
    "- Jar 1 --> 4 red ball and 7 white balls. It has 33% probability of selection.\n",
    "- Jar 2 --> 16 red balls and 3 white balls. It has 28% probability of selection.\n",
    "- Jar 3 --> 11 red balls and 9 white balls. It has 39% probability of selection.\n",
    "\n",
    "A random sample of size n = 6 is drawn.  \n",
    "X represents the number of red balls in the sample.  \n",
    "Calculate the variance of the random variable X = Var[X]."
   ]
  },
  {
   "cell_type": "code",
   "execution_count": 1,
   "metadata": {},
   "outputs": [],
   "source": [
    "from neoBayesian.tools.variance import *\n",
    "from neoBayesian.models.discrete import BinomialDist"
   ]
  },
  {
   "cell_type": "code",
   "execution_count": 2,
   "metadata": {},
   "outputs": [],
   "source": [
    "sample = 6\n",
    "\n",
    "jar1proba = 4/11\n",
    "jar2proba = 16/19\n",
    "jar3proba = 11/20\n",
    "\n",
    "jar1weight = 0.33\n",
    "jar2weight = 0.28\n",
    "jar3weight = 0.39\n",
    "\n",
    "# You can pass any value for the second parameter 'k'\n",
    "# since it is not used to find the variance or expected value\n",
    "jar1var = BinomialDist(sample, 0, jar1proba, \"var\")\n",
    "jar2var = BinomialDist(sample, 0, jar2proba, \"var\")\n",
    "jar3var = BinomialDist(sample, 0, jar3proba, \"var\")\n",
    "\n",
    "jar1exp = BinomialDist(sample, 0, jar1proba, \"exp\")\n",
    "jar2exp = BinomialDist(sample, 0, jar2proba, \"exp\")\n",
    "jar3exp = BinomialDist(sample, 0, jar3proba, \"exp\")"
   ]
  },
  {
   "cell_type": "code",
   "execution_count": 3,
   "metadata": {},
   "outputs": [
    {
     "name": "stdout",
     "output_type": "stream",
     "text": [
      "Within variance values:\n",
      "--> (1.388 * 0.33) + (0.798 * 0.28) + (1.485 * 0.39)\n",
      "--> Var[X=x|W_n] * W_n: 0.458 + 0.223 + 0.579\n",
      "\n",
      "Between expected values:\n",
      "--> (2.182 * 0.33) + (5.053 * 0.28) + (3.3 * 0.39)\n",
      "--> E[X=x|W_n] * W_n: 0.72 + 1.415 + 1.287\n",
      "\n",
      "E[X]:  3.422\n",
      "E[X]^2:  11.708\n",
      "E[X^2]:  12.966\n",
      "---------------------------------------\n",
      "\n",
      "Within-group variance: 1.26071\n",
      "Between-group variance: 1.25787\n",
      "VARIANCE: 2.51858\n"
     ]
    },
    {
     "data": {
      "text/plain": [
       "2.5185814381767857"
      ]
     },
     "execution_count": 3,
     "metadata": {},
     "output_type": "execute_result"
    }
   ],
   "source": [
    "varianceWithFormula(\n",
    "    [jar1var, jar2var, jar3var],\n",
    "    [jar1exp, jar2exp, jar3exp],\n",
    "    [jar1weight, jar2weight, jar3weight]\n",
    ")"
   ]
  },
  {
   "cell_type": "code",
   "execution_count": 4,
   "metadata": {},
   "outputs": [
    {
     "name": "stdout",
     "output_type": "stream",
     "text": [
      "Pr(X = k:0) -->  (0.066 * 0.33) + (0.0 * 0.28) + (0.008 * 0.39)\n",
      "Pr(X = k:1) -->  (0.228 * 0.33) + (0.0 * 0.28) + (0.061 * 0.39)\n",
      "Pr(X = k:2) -->  (0.325 * 0.33) + (0.007 * 0.28) + (0.186 * 0.39)\n",
      "Pr(X = k:3) -->  (0.248 * 0.33) + (0.047 * 0.28) + (0.303 * 0.39)\n",
      "Pr(X = k:4) -->  (0.106 * 0.33) + (0.188 * 0.28) + (0.278 * 0.39)\n",
      "Pr(X = k:5) -->  (0.024 * 0.33) + (0.401 * 0.28) + (0.136 * 0.39)\n",
      "Pr(X = k:6) -->  (0.002 * 0.33) + (0.357 * 0.28) + (0.028 * 0.39)\n",
      "\n",
      "--------------\n",
      "E[X]:  3.422\n",
      "E[X]^2:  11.708\n",
      "E[X^2]:  14.227\n",
      "\n",
      "Var[X]:  2.519\n"
     ]
    },
    {
     "data": {
      "text/plain": [
       "2.5185814381767795"
      ]
     },
     "execution_count": 4,
     "metadata": {},
     "output_type": "execute_result"
    }
   ],
   "source": [
    "# the brute force method is implemented only for the binomial distribution.\n",
    "# both functions produce the same result.\n",
    "varianceBruteForce(sample, \n",
    "   [(jar1proba, jar1weight), \n",
    "    (jar2proba, jar2weight), \n",
    "    (jar3proba, jar3weight)]\n",
    ")"
   ]
  },
  {
   "cell_type": "markdown",
   "metadata": {},
   "source": [
    "## Problem 2\n",
    "\n",
    "A factory produces 3 types of gadgets. The mean number of defective products each day per type is:\n",
    "\n",
    "- type 1 --> 6.4\n",
    "- type 2 --> 14.3\n",
    "- type 3 --> 24.2\n",
    "\n",
    "A large sample of gadges is taken with 31% of type 1, 42% of type 2, and 27% of type 3.   \n",
    "Random variable X represents the number of defective products observed. Caculate Var[X]"
   ]
  },
  {
   "cell_type": "code",
   "execution_count": 5,
   "metadata": {},
   "outputs": [
    {
     "name": "stdout",
     "output_type": "stream",
     "text": [
      "Within variance values:\n",
      "--> (6.4 * 0.31) + (14.3 * 0.42) + (24.2 * 0.27)\n",
      "--> Var[X=x|W_n] * W_n: 1.984 + 6.006 + 6.534\n",
      "\n",
      "Between expected values:\n",
      "--> (6.4 * 0.31) + (14.3 * 0.42) + (24.2 * 0.27)\n",
      "--> E[X=x|W_n] * W_n: 1.984 + 6.006 + 6.534\n",
      "\n",
      "E[X]:  14.524\n",
      "E[X]^2:  210.947\n",
      "E[X^2]:  256.706\n",
      "---------------------------------------\n",
      "\n",
      "Within-group variance: 14.524\n",
      "Between-group variance: 45.75962\n",
      "VARIANCE: 60.28362\n"
     ]
    },
    {
     "data": {
      "text/plain": [
       "60.283624"
      ]
     },
     "execution_count": 5,
     "metadata": {},
     "output_type": "execute_result"
    }
   ],
   "source": [
    "# Poisson distribution is used to model defective gadgets\n",
    "# Lambda = expected value = variance\n",
    "varianceWithFormula(\n",
    "    [6.4, 14.3, 24.2],\n",
    "    [6.4, 14.3, 24.2],\n",
    "    [0.31, 0.42, 0.27]\n",
    ")"
   ]
  },
  {
   "cell_type": "code",
   "execution_count": null,
   "metadata": {},
   "outputs": [],
   "source": []
  }
 ],
 "metadata": {
  "kernelspec": {
   "display_name": "Python 3",
   "language": "python",
   "name": "python3"
  },
  "language_info": {
   "codemirror_mode": {
    "name": "ipython",
    "version": 3
   },
   "file_extension": ".py",
   "mimetype": "text/x-python",
   "name": "python",
   "nbconvert_exporter": "python",
   "pygments_lexer": "ipython3",
   "version": "3.7.0"
  }
 },
 "nbformat": 4,
 "nbformat_minor": 2
}
